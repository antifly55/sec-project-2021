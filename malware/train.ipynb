{
 "cells": [
  {
   "cell_type": "code",
   "execution_count": null,
   "id": "456ac824",
   "metadata": {},
   "outputs": [],
   "source": [
    "import os\n",
    "import ray\n",
    "import time\n",
    "import joblib\n",
    "import ujson as json\n",
    "\n",
    "from lightgbm import LGBMClassifier\n",
    "\n",
    "from PEParser import *"
   ]
  },
  {
   "cell_type": "code",
   "execution_count": null,
   "id": "5205cc55",
   "metadata": {},
   "outputs": [],
   "source": [
    "SEED = 7777\n",
    "\n",
    "def read_label_csv(path):\n",
    "    label_table = dict()\n",
    "    with open(path, \"r\", encoding='ISO-8859-1') as f:\n",
    "        for line in f.readlines()[1:]:\n",
    "            fname, label = line.strip().split(\",\")\n",
    "            label_table[fname] = int(label)\n",
    "    return label_table\n",
    "\n",
    "def train(X_train, y_train, model):\n",
    "    clf = load_model(model=model, random_state=SEED)\n",
    "    clf.fit(X_train, y_train)\n",
    "    return clf"
   ]
  },
  {
   "cell_type": "code",
   "execution_count": null,
   "id": "6eed6c8d",
   "metadata": {},
   "outputs": [],
   "source": [
    "@ray.remote\n",
    "def getFeaturesA(fname, infer):\n",
    "    feature_vector = []\n",
    "    for data in [\"PEMINER\", \"EMBER\"]:\n",
    "        path = os.path.realpath(f\"./데이터/{data}/{infer}/{fname}.json\")\n",
    "      \n",
    "        if data == \"PEMINER\":\n",
    "            feature_vector += PeminerFeatureExtract(path)\n",
    "        elif data == \"EMBER\":\n",
    "            feature_vector += EmberFeatureExtract(path)\n",
    "            \n",
    "    return feature_vector\n",
    "\n",
    "@ray.remote\n",
    "def getFeaturesB(fname, infer):\n",
    "    feature_vector = []\n",
    "    for data in [\"PEMINER\", \"EMBER\", \"PESTUDIO\"]:\n",
    "        path = os.path.realpath(f\"./데이터/{data}/{infer}/{fname}.json\")\n",
    "      \n",
    "        if data == \"PEMINER\":\n",
    "            feature_vector += PeminerFeatureExtract(path)\n",
    "        elif data == \"EMBER\":\n",
    "            feature_vector += EmberFeatureExtract(path)\n",
    "        else:\n",
    "            feature_vector += PestudioFeatureExtract(path)\n",
    "            \n",
    "    return feature_vector"
   ]
  },
  {
   "cell_type": "code",
   "execution_count": null,
   "id": "47285376",
   "metadata": {},
   "outputs": [],
   "source": [
    "train_label_table = read_label_csv(os.path.realpath('데이터/학습데이터_정답.csv'))\n",
    "train_fnames = list(train_label_table.keys())"
   ]
  },
  {
   "cell_type": "code",
   "execution_count": null,
   "id": "017c979c",
   "metadata": {},
   "outputs": [],
   "source": [
    "start = time.time()\n",
    "\n",
    "ray.init(local_mode=False, num_cpus=8)\n",
    "\n",
    "trainyA = []\n",
    "trainyB = []\n",
    "\n",
    "taskA = []\n",
    "taskB = []\n",
    "for fname in train_fnames:\n",
    "    \n",
    "    taskA.append(getFeaturesA.remote(fname, '학습데이터'))\n",
    "    trainyA.append(train_label_table[fname])\n",
    "    \n",
    "    path = os.path.realpath(f\"./데이터/PESTUDIO/학습데이터/{fname}.json\")\n",
    "    if os.path.exists(path):\n",
    "        taskB.append(getFeaturesB.remote(fname, '학습데이터'))\n",
    "        trainyB.append(train_label_table[fname])\n",
    "    \n",
    "trainXA = ray.get(taskA)\n",
    "trainXB = ray.get(taskB)\n",
    "\n",
    "ray.shutdown()\n",
    "\n",
    "print(time.time() - start, 'sec')"
   ]
  },
  {
   "cell_type": "code",
   "execution_count": null,
   "id": "1e66cd45",
   "metadata": {},
   "outputs": [],
   "source": [
    "N_ESTIMATORS = [128, 256, 384, 512]\n",
    "NUM_LEAVES = [7, 15, 31, 63, 127]\n",
    "LEARNING_RATE = [0.1, 0.07, 0.05, 0.03, 0.01]"
   ]
  },
  {
   "cell_type": "code",
   "execution_count": null,
   "id": "8e7c1f35",
   "metadata": {},
   "outputs": [],
   "source": [
    "idx = 0\n",
    "for n_estimators in N_ESTIMATORS:\n",
    "    for num_leaves in NUM_LEAVES:\n",
    "        for learning_rate in LEARNING_RATE:\n",
    "            clf = LGBMClassifier(n_estimators=n_estimators, num_leaves=num_leaves, learning_rate=learning_rate, random_state=SEED)\n",
    "            clf.fit(trainXA, trainyA)\n",
    "            joblib.dump(clf, f'./modelA/{idx}.pt')\n",
    "            idx += 1"
   ]
  },
  {
   "cell_type": "code",
   "execution_count": null,
   "id": "4ab09872",
   "metadata": {},
   "outputs": [],
   "source": [
    "idx = 0\n",
    "for n_estimators in N_ESTIMATORS:\n",
    "    for num_leaves in NUM_LEAVES:\n",
    "        for learning_rate in LEARNING_RATE:\n",
    "            clf = LGBMClassifier(n_estimators=n_estimators, num_leaves=num_leaves, learning_rate=learning_rate, random_state=SEED)\n",
    "            clf.fit(trainXB, trainyB)\n",
    "            joblib.dump(clf, f'./modelB/{idx}.pt')\n",
    "            idx += 1"
   ]
  }
 ],
 "metadata": {
  "kernelspec": {
   "display_name": "Python 3",
   "language": "python",
   "name": "python3"
  },
  "language_info": {
   "codemirror_mode": {
    "name": "ipython",
    "version": 3
   },
   "file_extension": ".py",
   "mimetype": "text/x-python",
   "name": "python",
   "nbconvert_exporter": "python",
   "pygments_lexer": "ipython3",
   "version": "3.8.8"
  }
 },
 "nbformat": 4,
 "nbformat_minor": 5
}

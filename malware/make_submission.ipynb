{
 "cells": [
  {
   "cell_type": "code",
   "execution_count": 1,
   "id": "c77355f7",
   "metadata": {},
   "outputs": [],
   "source": [
    "import os\n",
    "import ray\n",
    "import time\n",
    "import joblib\n",
    "import numpy as np\n",
    "\n",
    "from lightgbm import LGBMClassifier\n",
    "from sklearn.metrics import accuracy_score, precision_score, recall_score, f1_score\n",
    "\n",
    "from PEParser import *"
   ]
  },
  {
   "cell_type": "code",
   "execution_count": 2,
   "id": "bf47d1bb",
   "metadata": {},
   "outputs": [],
   "source": [
    "SEED = 7777\n",
    "\n",
    "def read_label_csv(path):\n",
    "    label_table = dict()\n",
    "    with open(path, \"r\", encoding='ISO-8859-1') as f:\n",
    "        for line in f.readlines()[1:]:\n",
    "            fname, label = line.strip().split(\",\")\n",
    "            label_table[fname] = int(label)\n",
    "    return label_table\n",
    "\n",
    "def scoring(X_test, files, model, csv):\n",
    "    predict = model.predict(X_test)\n",
    "    for i in range(len(X_test)):\n",
    "        csv.write(f'{files[i]},{predict[i]}\\n')\n",
    "\n",
    "def hard_voting(X_test, files, models, csv):\n",
    "    score = np.zeros(len(X_test))\n",
    "    for model in models:\n",
    "        pred = model.predict(X_test)\n",
    "        score += np.array(pred)\n",
    "    predict = (score > len(models)//2).astype(int)\n",
    "    \n",
    "    for i in range(len(X_test)):\n",
    "        csv.write(f'{files[i]},{predict[i]}\\n')"
   ]
  },
  {
   "cell_type": "code",
   "execution_count": 3,
   "id": "34b75615",
   "metadata": {},
   "outputs": [],
   "source": [
    "@ray.remote\n",
    "def getFeaturesA(fname, infer):\n",
    "    feature_vector = []\n",
    "    for data in [\"PEMINER\", \"EMBER\"]:\n",
    "        path = os.path.realpath(f\"./데이터/{data}/{infer}/{fname}.json\")\n",
    "      \n",
    "        if data == \"PEMINER\":\n",
    "            feature_vector += PeminerFeatureExtract(path)\n",
    "        elif data == \"EMBER\":\n",
    "            feature_vector += EmberFeatureExtract(path)\n",
    "            \n",
    "    return feature_vector\n",
    "\n",
    "@ray.remote\n",
    "def getFeaturesB(fname, infer):\n",
    "    feature_vector = []\n",
    "    for data in [\"PEMINER\", \"EMBER\", \"PESTUDIO\"]:\n",
    "        path = os.path.realpath(f\"./데이터/{data}/{infer}/{fname}.json\")\n",
    "      \n",
    "        if data == \"PEMINER\":\n",
    "            feature_vector += PeminerFeatureExtract(path)\n",
    "        elif data == \"EMBER\":\n",
    "            feature_vector += EmberFeatureExtract(path)\n",
    "        else:\n",
    "            feature_vector += PestudioFeatureExtract(path)\n",
    "            \n",
    "    return feature_vector"
   ]
  },
  {
   "cell_type": "code",
   "execution_count": 4,
   "id": "5264356a",
   "metadata": {},
   "outputs": [
    {
     "name": "stdout",
     "output_type": "stream",
     "text": [
      "71.19274044036865 sec\n"
     ]
    }
   ],
   "source": [
    "start = time.time()\n",
    "\n",
    "ray.init(local_mode=False, num_cpus=8)\n",
    "\n",
    "fileA = []\n",
    "fileB = []\n",
    "\n",
    "taskA = []\n",
    "taskB = []\n",
    "for fname in os.listdir(os.path.realpath(f\"./데이터/PEMINER/테스트데이터\")):\n",
    "    \n",
    "    fname = fname.split('.json')[0]\n",
    "    \n",
    "    path = os.path.realpath(f\"./데이터/PESTUDIO/테스트데이터/{fname}.json\")\n",
    "    if not os.path.exists(path):\n",
    "        taskA.append(getFeaturesA.remote(fname, '테스트데이터'))\n",
    "        fileA.append(fname)\n",
    "    else:\n",
    "        taskB.append(getFeaturesB.remote(fname, '테스트데이터'))\n",
    "        fileB.append(fname)\n",
    "    \n",
    "testXA = ray.get(taskA)\n",
    "testXB = ray.get(taskB)\n",
    "\n",
    "ray.shutdown()\n",
    "\n",
    "print(time.time() - start, 'sec')"
   ]
  },
  {
   "cell_type": "code",
   "execution_count": 5,
   "id": "5f01a52d",
   "metadata": {},
   "outputs": [],
   "source": [
    "best_modelA_idx = [14, 99, 44, 24, 74, 39, 34, 49, 19]\n",
    "best_modelB_idx = [87, 86, 61, 92, 62, 88, 67, 35, 91]"
   ]
  },
  {
   "cell_type": "code",
   "execution_count": 6,
   "id": "f69fcaaa",
   "metadata": {},
   "outputs": [
    {
     "data": {
      "text/plain": [
       "12"
      ]
     },
     "execution_count": 6,
     "metadata": {},
     "output_type": "execute_result"
    }
   ],
   "source": [
    "csv = open('submission.csv', 'w')\n",
    "csv.write('fname,label\\n')"
   ]
  },
  {
   "cell_type": "code",
   "execution_count": 7,
   "id": "f6c782b1",
   "metadata": {},
   "outputs": [],
   "source": [
    "clfs = []\n",
    "for idx in best_modelA_idx:\n",
    "    clfs.append(joblib.load(f'./modelA/{idx}.pt'))\n",
    "scoring(testXA, fileA, clfs[0], csv)"
   ]
  },
  {
   "cell_type": "code",
   "execution_count": 8,
   "id": "760688c8",
   "metadata": {
    "scrolled": true
   },
   "outputs": [],
   "source": [
    "clfs = []\n",
    "for idx in best_modelB_idx:\n",
    "    clfs.append(joblib.load(f'./modelB/{idx}.pt'))\n",
    "hard_voting(testXB, fileB, clfs, csv)"
   ]
  },
  {
   "cell_type": "code",
   "execution_count": 9,
   "id": "b1097d86",
   "metadata": {},
   "outputs": [],
   "source": [
    "csv.close()"
   ]
  }
 ],
 "metadata": {
  "kernelspec": {
   "display_name": "Python 3",
   "language": "python",
   "name": "python3"
  },
  "language_info": {
   "codemirror_mode": {
    "name": "ipython",
    "version": 3
   },
   "file_extension": ".py",
   "mimetype": "text/x-python",
   "name": "python",
   "nbconvert_exporter": "python",
   "pygments_lexer": "ipython3",
   "version": "3.8.8"
  }
 },
 "nbformat": 4,
 "nbformat_minor": 5
}

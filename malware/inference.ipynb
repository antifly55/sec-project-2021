{
 "cells": [
  {
   "cell_type": "code",
   "execution_count": 1,
   "id": "18e22877",
   "metadata": {},
   "outputs": [],
   "source": [
    "import os\n",
    "import ray\n",
    "import time\n",
    "import joblib\n",
    "import numpy as np\n",
    "\n",
    "from lightgbm import LGBMClassifier\n",
    "from sklearn.metrics import accuracy_score, precision_score, recall_score, f1_score\n",
    "\n",
    "from PEParser import *"
   ]
  },
  {
   "cell_type": "code",
   "execution_count": 2,
   "id": "169d07ff",
   "metadata": {},
   "outputs": [],
   "source": [
    "SEED = 7777\n",
    "\n",
    "def read_label_csv(path):\n",
    "    label_table = dict()\n",
    "    with open(path, \"r\", encoding='ISO-8859-1') as f:\n",
    "        for line in f.readlines()[1:]:\n",
    "            fname, label = line.strip().split(\",\")\n",
    "            label_table[fname] = int(label)\n",
    "    return label_table\n",
    "\n",
    "def evaluate(X_test, y_test, model):\n",
    "    predict = model.predict(X_test)\n",
    "    print(\"Accuracy)\", accuracy_score(y_test, predict))\n",
    "    print(\"Precision)\", precision_score(y_test, predict))\n",
    "    print(\"Recall)\", recall_score(y_test, predict))\n",
    "    print(\"F1-Score)\", f1_score(y_test, predict))\n",
    "    print()\n",
    "    \n",
    "def hard_voting(X_test, y_test, models):\n",
    "    score = np.zeros(len(X_test))\n",
    "    for model in models:\n",
    "        pred = model.predict(X_test)\n",
    "        score += np.array(pred)\n",
    "    predict = (score > len(models)//2).astype(int)\n",
    "    \n",
    "    print(\"Accuracy)\", accuracy_score(y_test, predict))\n",
    "    print(\"Precision)\", precision_score(y_test, predict))\n",
    "    print(\"Recall)\", recall_score(y_test, predict))\n",
    "    print(\"F1-Score)\", f1_score(y_test, predict))\n",
    "    print()"
   ]
  },
  {
   "cell_type": "code",
   "execution_count": 3,
   "id": "df844f60",
   "metadata": {},
   "outputs": [],
   "source": [
    "@ray.remote\n",
    "def getFeaturesA(fname, infer):\n",
    "    feature_vector = []\n",
    "    for data in [\"PEMINER\", \"EMBER\"]:\n",
    "        path = os.path.realpath(f\"./데이터/{data}/{infer}/{fname}.json\")\n",
    "      \n",
    "        if data == \"PEMINER\":\n",
    "            feature_vector += PeminerFeatureExtract(path)\n",
    "        elif data == \"EMBER\":\n",
    "            feature_vector += EmberFeatureExtract(path)\n",
    "            \n",
    "    return feature_vector\n",
    "\n",
    "@ray.remote\n",
    "def getFeaturesB(fname, infer):\n",
    "    feature_vector = []\n",
    "    for data in [\"PEMINER\", \"EMBER\", \"PESTUDIO\"]:\n",
    "        path = os.path.realpath(f\"./데이터/{data}/{infer}/{fname}.json\")\n",
    "      \n",
    "        if data == \"PEMINER\":\n",
    "            feature_vector += PeminerFeatureExtract(path)\n",
    "        elif data == \"EMBER\":\n",
    "            feature_vector += EmberFeatureExtract(path)\n",
    "        else:\n",
    "            feature_vector += PestudioFeatureExtract(path)\n",
    "            \n",
    "    return feature_vector"
   ]
  },
  {
   "cell_type": "code",
   "execution_count": 4,
   "id": "c337f976",
   "metadata": {},
   "outputs": [],
   "source": [
    "eval_label_table = read_label_csv(os.path.realpath('데이터/검증데이터_정답.csv'))\n",
    "eval_fnames = list(eval_label_table.keys())"
   ]
  },
  {
   "cell_type": "code",
   "execution_count": 5,
   "id": "c0cb4935",
   "metadata": {
    "scrolled": true
   },
   "outputs": [
    {
     "name": "stdout",
     "output_type": "stream",
     "text": [
      "71.15895414352417 sec\n"
     ]
    }
   ],
   "source": [
    "start = time.time()\n",
    "\n",
    "ray.init(local_mode=False, num_cpus=8)\n",
    "\n",
    "evalyA = []\n",
    "evalyB = []\n",
    "\n",
    "taskA = []\n",
    "taskB = []\n",
    "for fname in eval_fnames:\n",
    "    \n",
    "    path = os.path.realpath(f\"./데이터/PESTUDIO/검증데이터/{fname}.json\")\n",
    "    if not os.path.exists(path):\n",
    "        taskA.append(getFeaturesA.remote(fname, '검증데이터'))\n",
    "        evalyA.append(eval_label_table[fname])\n",
    "    else:\n",
    "        taskB.append(getFeaturesB.remote(fname, '검증데이터'))\n",
    "        evalyB.append(eval_label_table[fname])\n",
    "    \n",
    "evalXA = ray.get(taskA)\n",
    "evalXB = ray.get(taskB)\n",
    "\n",
    "ray.shutdown()\n",
    "\n",
    "print(time.time() - start, 'sec')"
   ]
  },
  {
   "cell_type": "code",
   "execution_count": 6,
   "id": "2860e710",
   "metadata": {},
   "outputs": [],
   "source": [
    "best_modelA_idx = [14, 99, 44, 24, 74, 39, 34, 49, 19]\n",
    "best_modelB_idx = [87, 86, 61, 92, 62, 88, 67, 35, 91]"
   ]
  },
  {
   "cell_type": "code",
   "execution_count": 7,
   "id": "daa901e2",
   "metadata": {},
   "outputs": [
    {
     "name": "stdout",
     "output_type": "stream",
     "text": [
      "modelA best model inference\n",
      "Accuracy) 0.9653465346534653\n",
      "Precision) 0.967032967032967\n",
      "Recall) 0.9943502824858758\n",
      "F1-Score) 0.9805013927576602\n",
      "\n",
      "modelA ensemble inference\n",
      "Accuracy) 0.9603960396039604\n",
      "Precision) 0.9720670391061452\n",
      "Recall) 0.9830508474576272\n",
      "F1-Score) 0.9775280898876404\n",
      "\n"
     ]
    }
   ],
   "source": [
    "clfs = []\n",
    "for idx in best_modelA_idx:\n",
    "    clfs.append(joblib.load(f'./modelA/{idx}.pt'))\n",
    "    \n",
    "print('modelA best model inference')\n",
    "evaluate(evalXA, evalyA, clfs[0])\n",
    "\n",
    "print('modelA ensemble inference')\n",
    "hard_voting(evalXA, evalyA, clfs)"
   ]
  },
  {
   "cell_type": "code",
   "execution_count": 8,
   "id": "d585b683",
   "metadata": {
    "scrolled": true
   },
   "outputs": [
    {
     "name": "stdout",
     "output_type": "stream",
     "text": [
      "modelB best model inference\n",
      "Accuracy) 0.963053684425393\n",
      "Precision) 0.9821708743403224\n",
      "Recall) 0.96672750245683\n",
      "F1-Score) 0.974388000566011\n",
      "\n",
      "modelB ensemble inference\n",
      "Accuracy) 0.9633598693610941\n",
      "Precision) 0.9823160296634341\n",
      "Recall) 0.9670082830268145\n",
      "F1-Score) 0.9746020516448531\n",
      "\n"
     ]
    }
   ],
   "source": [
    "clfs = []\n",
    "for idx in best_modelB_idx:\n",
    "    clfs.append(joblib.load(f'./modelB/{idx}.pt'))\n",
    "    \n",
    "print('modelB best model inference')\n",
    "evaluate(evalXB, evalyB, clfs[0])\n",
    "\n",
    "print('modelB ensemble inference')\n",
    "hard_voting(evalXB, evalyB, clfs)"
   ]
  },
  {
   "cell_type": "code",
   "execution_count": null,
   "id": "4305009b",
   "metadata": {},
   "outputs": [],
   "source": []
  }
 ],
 "metadata": {
  "kernelspec": {
   "display_name": "Python 3",
   "language": "python",
   "name": "python3"
  },
  "language_info": {
   "codemirror_mode": {
    "name": "ipython",
    "version": 3
   },
   "file_extension": ".py",
   "mimetype": "text/x-python",
   "name": "python",
   "nbconvert_exporter": "python",
   "pygments_lexer": "ipython3",
   "version": "3.8.8"
  }
 },
 "nbformat": 4,
 "nbformat_minor": 5
}
